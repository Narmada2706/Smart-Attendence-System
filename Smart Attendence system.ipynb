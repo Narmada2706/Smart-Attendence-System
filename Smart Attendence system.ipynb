{
 "cells": [
  {
   "cell_type": "markdown",
   "metadata": {},
   "source": [
    "# importing required library"
   ]
  },
  {
   "cell_type": "code",
   "execution_count": 1,
   "metadata": {},
   "outputs": [],
   "source": [
    "from pyzbar.pyzbar import decode\n",
    "from PIL import Image\n",
    "import cv2\n",
    "import csv\n",
    "import time"
   ]
  },
  {
   "cell_type": "markdown",
   "metadata": {},
   "source": [
    "# initialization of camera"
   ]
  },
  {
   "cell_type": "code",
   "execution_count": 2,
   "metadata": {},
   "outputs": [],
   "source": [
    "video = cv2.VideoCapture(0)\n"
   ]
  },
  {
   "cell_type": "markdown",
   "metadata": {},
   "source": [
    "# Reading CSV file"
   ]
  },
  {
   "cell_type": "code",
   "execution_count": 3,
   "metadata": {},
   "outputs": [],
   "source": [
    "students = []\n",
    "f = open(r\"C:\\Users\\Sadanand\\Desktop\\Downloads\\student.csv\",\"r\")\n",
    "reader = csv.reader(f)\n",
    "for row in reader:\n",
    "    students.append(row[1])"
   ]
  },
  {
   "cell_type": "code",
   "execution_count": null,
   "metadata": {},
   "outputs": [],
   "source": [
    "while True:\n",
    "    ret,frame = video.read()\n",
    "    d = decode(frame)\n",
    "    try:\n",
    "        for obj in d:\n",
    "            name = d[0].data.decode()\n",
    "            if name in students:\n",
    "                students.remove(name)\n",
    "                print(\"deleted........\")\n",
    "    except:\n",
    "        print(\"error\")\n",
    "    cv2.imshow(\"Attendence\",frame)\n",
    "    key = cv2.waitKey(1)\n",
    "    if key == ord(\"q\"):\n",
    "        print(\"******** students are absent today ************\")\n",
    "        print(\"Name of Students\",students)\n",
    "        break\n",
    "video.release()\n",
    "cv2.destroyAllWindows\n",
    "        "
   ]
  },
  {
   "cell_type": "code",
   "execution_count": null,
   "metadata": {},
   "outputs": [],
   "source": []
  }
 ],
 "metadata": {
  "kernelspec": {
   "display_name": "Python 3",
   "language": "python",
   "name": "python3"
  },
  "language_info": {
   "codemirror_mode": {
    "name": "ipython",
    "version": 3
   },
   "file_extension": ".py",
   "mimetype": "text/x-python",
   "name": "python",
   "nbconvert_exporter": "python",
   "pygments_lexer": "ipython3",
   "version": "3.8.5"
  }
 },
 "nbformat": 4,
 "nbformat_minor": 4
}
